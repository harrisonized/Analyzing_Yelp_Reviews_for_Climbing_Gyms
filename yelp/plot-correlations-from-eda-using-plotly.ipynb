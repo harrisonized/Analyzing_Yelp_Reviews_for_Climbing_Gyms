{
 "cells": [
  {
   "cell_type": "code",
   "execution_count": 1,
   "metadata": {},
   "outputs": [],
   "source": [
    "import matplotlib.pyplot as plt\n",
    "import numpy as np\n",
    "import pandas as pd\n",
    "import plotly\n",
    "import plotly.plotly as py\n",
    "import plotly.figure_factory as ff\n",
    "import plotly.graph_objs as go\n",
    "# Turn off warnings\n",
    "import warnings\n",
    "warnings.filterwarnings('ignore')"
   ]
  },
  {
   "cell_type": "code",
   "execution_count": 2,
   "metadata": {},
   "outputs": [],
   "source": [
    "with open(r'/home/harrisonized/Desktop/.API Keys/plotly_apikey.txt') as f: # Grab API Key\n",
    "    api_key = f.readline()\n",
    "    f.close\n",
    "    \n",
    "plotly.tools.set_credentials_file(username='Harrisonized', api_key=api_key.strip()) # Fill in API Key"
   ]
  },
  {
   "cell_type": "code",
   "execution_count": 3,
   "metadata": {},
   "outputs": [],
   "source": [
    "eda_correlations_df = pd.read_csv('data/eda-correlations.csv') # this dataset has labeled targets, an improvement on df above"
   ]
  },
  {
   "cell_type": "code",
   "execution_count": 4,
   "metadata": {
    "scrolled": true
   },
   "outputs": [
    {
     "data": {
      "text/plain": [
       "0                 <b>Text<br>Length</b>\n",
       "1                         <b>Useful</b>\n",
       "2                <b>Review<br>Count</b>\n",
       "3                <b>Dogs<br>Allowed</b>\n",
       "4                          <b>Funny</b>\n",
       "5              <b>Open<br>To<br>All</b>\n",
       "6     <b>Accepts<br>Credit<br>Cards</b>\n",
       "7                           <b>Cool</b>\n",
       "8                <b>Bike<br>Parking</b>\n",
       "9            <b>Good<br>For<br>Kids</b>\n",
       "10                  <b>Avg<br>Stars</b>\n",
       "Name: Attribute, dtype: object"
      ]
     },
     "execution_count": 4,
     "metadata": {},
     "output_type": "execute_result"
    }
   ],
   "source": [
    "# Generate line breaks for the plot\n",
    "eda_correlations_df['Attribute'].apply(lambda x: x.replace(\" \", \"<br>\")).apply(lambda x: \"<b>\"+x).apply(lambda x: x+\"</b>\")"
   ]
  },
  {
   "cell_type": "code",
   "execution_count": 5,
   "metadata": {},
   "outputs": [
    {
     "data": {
      "text/html": [
       "<iframe id=\"igraph\" scrolling=\"no\" style=\"border:none;\" seamless=\"seamless\" src=\"https://plot.ly/~Harrisonized/8.embed\" height=\"600px\" width=\"1200px\"></iframe>"
      ],
      "text/plain": [
       "<chart_studio.tools.PlotlyDisplay object>"
      ]
     },
     "execution_count": 5,
     "metadata": {},
     "output_type": "execute_result"
    }
   ],
   "source": [
    "# Specify data\n",
    "trace1 = go.Bar(\n",
    "    x=eda_correlations_df['Attribute'].apply(lambda x: x.replace(\" \", \"<br>\")).apply(lambda x: \"<b>\"+x).apply(lambda x: x+\"</b>\"),\n",
    "    y=eda_correlations_df[\"Correlation\"],\n",
    "    name='Correlation',\n",
    "    marker=dict(\n",
    "        color=['#1f77b4', '#1f77b4', '#1f77b4', '#1f77b4', '#1f77b4', '#1f77b4', '#1f77b4',\n",
    "               'rgba(222,45,38,0.8)', 'rgba(222,45,38,0.8)', 'rgba(222,45,38,0.8)', 'rgba(222,45,38,0.8)', 'rgba(222,45,38,0.8)'\n",
    "               ]),\n",
    ")\n",
    "\n",
    "data = [trace1]\n",
    "\n",
    "\n",
    "\n",
    "# Layout\n",
    "layout = go.Layout(\n",
    "    autosize = False,\n",
    "    width = 1200,\n",
    "    height = 600,\n",
    "    title = 'Correlation with Stars',\n",
    "    titlefont = dict(\n",
    "            size = 40\n",
    "        ),\n",
    "    xaxis = dict(\n",
    "        tickfont = dict(\n",
    "            size = 12\n",
    "        ),\n",
    "    ),\n",
    "    \n",
    "    yaxis = dict(\n",
    "        title = 'Correlation',\n",
    "        range = [-0.55, 0.55],\n",
    "        dtick = 0.1,\n",
    "        titlefont = dict(\n",
    "            size = 32,\n",
    "        ),\n",
    "        tickfont = dict(\n",
    "            size = 18\n",
    "        ),\n",
    "    )\n",
    ")\n",
    "\n",
    "\n",
    "\n",
    "# Show figure\n",
    "fig = go.Figure(data=data, layout=layout)\n",
    "py.iplot(fig, filename='multiple-axes-double')"
   ]
  }
 ],
 "metadata": {
  "kernelspec": {
   "display_name": "Python 3",
   "language": "python",
   "name": "python3"
  },
  "language_info": {
   "codemirror_mode": {
    "name": "ipython",
    "version": 3
   },
   "file_extension": ".py",
   "mimetype": "text/x-python",
   "name": "python",
   "nbconvert_exporter": "python",
   "pygments_lexer": "ipython3",
   "version": "3.6.8"
  }
 },
 "nbformat": 4,
 "nbformat_minor": 2
}
