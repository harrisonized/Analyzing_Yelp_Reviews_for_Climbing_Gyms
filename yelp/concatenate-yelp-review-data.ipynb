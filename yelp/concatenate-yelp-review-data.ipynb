{
 "cells": [
  {
   "cell_type": "code",
   "execution_count": 1,
   "metadata": {},
   "outputs": [],
   "source": [
    "import pandas as pd\n",
    "from collections import Counter\n",
    "import re\n",
    "import glob # For opening and closing files\n",
    "\n",
    "# Json stuff\n",
    "import json\n",
    "from pandas.io.json import json_normalize\n",
    "import dask.bag as db\n",
    "\n",
    "import warnings # Turn off warnings\n",
    "warnings.filterwarnings('ignore')"
   ]
  },
  {
   "cell_type": "code",
   "execution_count": 2,
   "metadata": {
    "scrolled": true
   },
   "outputs": [
    {
     "data": {
      "text/plain": [
       "['aesthetic_climbing_gym_lake_forest',\n",
       " 'berkeley_ironworks_climbing_and_fitness_club_berkeley',\n",
       " 'blue_granite_climbing_gym_south_lake_tahoe',\n",
       " 'boulderdash_indoor_rock_climbing_thousand_oaks',\n",
       " 'boulderdash_sfv_chatsworth_6',\n",
       " 'boulderdash_ventura_ventura',\n",
       " 'bridges_rock_gym_el_cerrito',\n",
       " 'cliffs_of_id_culver_city',\n",
       " 'crux_climbing_center_san_luis_obispo',\n",
       " 'desert_rocks_indoor_climbing_gym_north_palm_springs',\n",
       " 'diablo_rock_gym_concord_3',\n",
       " 'dogpatch_boulders_san_francisco',\n",
       " 'far_north_climbing_arcata',\n",
       " 'gold_crush_grass_valley',\n",
       " 'granite_arch_climbing_center_rancho_cordova',\n",
       " 'great_western_power_company_oakland',\n",
       " 'grotto_climbing_and_yoga_san_diego',\n",
       " 'hangar_18_arcadia_arcadia',\n",
       " 'hangar_18_east_riverside_riverside',\n",
       " 'hangar_18_hawthorne_hawthorne',\n",
       " 'hangar_18_long_beach_signal_hill_2',\n",
       " 'hangar_18_mission_viejo_mission_viejo',\n",
       " 'hangar_18_riverside_riverside_2',\n",
       " 'hangar_18_upland_upland',\n",
       " 'hollywood_boulders_los_angeles',\n",
       " 'la_boulders_los_angeles',\n",
       " 'mesa_rim_climbing_and_fitness_center_san_diego_2',\n",
       " 'mesa_rim_climbing_and_fitness_center_san_diego_3',\n",
       " 'mesa_rim_climbing_and_fitness_reno_2',\n",
       " 'metalmark_climbing_and_fitness_fresno',\n",
       " 'mission_cliffs_climbing_and_fitness_san_francisco',\n",
       " 'outback_climbing_center_san_diego',\n",
       " 'pacific_edge_laguna_beach',\n",
       " 'pacific_edge_rock_climbing_gym_santa_cruz',\n",
       " 'planet_granite_belmont_2',\n",
       " 'planet_granite_portland_portland',\n",
       " 'planet_granite_san_francisco_2',\n",
       " 'planet_granite_sunnyvale_sunnyvale_2',\n",
       " 'rock_city_climbing_center_anaheim',\n",
       " 'rock_fitness_wildomar',\n",
       " 'rocknasium_davis',\n",
       " 'rockreation_los_angeles_4',\n",
       " 'rockreation_sport_climbing_center_costa_mesa_2',\n",
       " 'rockzilla_napa',\n",
       " 'sacramento_pipeworks_sacramento',\n",
       " 'santa_barbara_rock_gym_santa_barbara',\n",
       " 'sender_one_climbing_and_sender_city_santa_ana_6',\n",
       " 'sender_one_climbing_lax_los_angeles_2',\n",
       " 'sender_one_yoga_and_fitness_santa_ana_4',\n",
       " 'shasta_rock_club_redding',\n",
       " 'stonehenge_modesto_2',\n",
       " 'terrain_park_climbing_center_chico',\n",
       " 'the_boulder_field_sacramento',\n",
       " 'the_factory_bouldering_orange_2',\n",
       " 'the_pad_climbing_san_luis_obispo',\n",
       " 'the_pad_santa_maria',\n",
       " 'the_peak_of_fremont_fremont',\n",
       " 'the_stronghold_climbing_gym_los_angeles',\n",
       " 'the_studio_climbing_san_jose',\n",
       " 'the_wall_climbing_gym_vista_3',\n",
       " 'top_out_climbing_santa_clarita',\n",
       " 'verdigo_boulders_burbank',\n",
       " 'vertex_climbing_center_santa_rosa',\n",
       " 'vertical_hold_rock_climbing_gym_poway',\n",
       " 'vertical_hold_rock_climbing_gym_san_diego',\n",
       " 'vertical_hold_rock_climbing_gym_san_diego_2',\n",
       " 'vertical_hold_rock_climbing_gym_san_marcos',\n",
       " 'vital_climbing_gym_bellingham',\n",
       " 'vital_climbing_gym_carlsbad',\n",
       " 'vital_climbing_gym_murrieta',\n",
       " 'vital_climbing_gym_oceanside']"
      ]
     },
     "execution_count": 2,
     "metadata": {},
     "output_type": "execute_result"
    }
   ],
   "source": [
    "# Show the files in the folder\n",
    "filenames_list = glob.glob(\"data/climbing-gym-reviews/*.json\") # Grab a list of filenames\n",
    "files_list = list(map(lambda x: x.replace(\"climbing-gym-reviews/\", \"\").replace(\".json\",\"\").replace(\"Data/\", \"\"), sorted(filenames_list)))\n",
    "files_list"
   ]
  },
  {
   "cell_type": "code",
   "execution_count": 3,
   "metadata": {
    "scrolled": true
   },
   "outputs": [
    {
     "data": {
      "text/plain": [
       "8317"
      ]
     },
     "execution_count": 3,
     "metadata": {},
     "output_type": "execute_result"
    }
   ],
   "source": [
    "# Concatenating Files\n",
    "\n",
    "review_full_bag = db.read_text(\"data/climbing-gym-reviews/{}.json\".format(files_list[0])).map(json.loads) # Loads the json file as a dask bag\n",
    "review_tuple = review_full_bag.take(10000) # Takes the first 10000 entries of the dask bag and stores as a tuple\n",
    "climbing_review_json = list(review_tuple)\n",
    "\n",
    "for i in range(1, len(files_list)):\n",
    "    review_full_bag = db.read_text(\"data/climbing-gym-reviews/{}.json\".format(files_list[i])).map(json.loads) # Loads the json file as a dask bag\n",
    "    review_tuple = review_full_bag.take(10000) # Takes the first 10000 entries of the dask bag and stores as a tuple\n",
    "    climbing_review_json = climbing_review_json + list(review_tuple)\n",
    "\n",
    "len(climbing_review_json)"
   ]
  },
  {
   "cell_type": "code",
   "execution_count": 4,
   "metadata": {
    "scrolled": true
   },
   "outputs": [
    {
     "name": "stdout",
     "output_type": "stream",
     "text": [
      "Complete\n"
     ]
    }
   ],
   "source": [
    "# Save file as actual JSON\n",
    "filename = \"climbing-gym-reviews\"\n",
    "with open('data/{}.json'.format(filename), 'w') as f:\n",
    "    for i in range(len(climbing_review_json)):\n",
    "        json.dump(climbing_review_json[i], f)\n",
    "        f.write('\\n')\n",
    "print(\"Complete\")"
   ]
  }
 ],
 "metadata": {
  "kernelspec": {
   "display_name": "Python 3",
   "language": "python",
   "name": "python3"
  },
  "language_info": {
   "codemirror_mode": {
    "name": "ipython",
    "version": 3
   },
   "file_extension": ".py",
   "mimetype": "text/x-python",
   "name": "python",
   "nbconvert_exporter": "python",
   "pygments_lexer": "ipython3",
   "version": "3.6.8"
  }
 },
 "nbformat": 4,
 "nbformat_minor": 2
}
