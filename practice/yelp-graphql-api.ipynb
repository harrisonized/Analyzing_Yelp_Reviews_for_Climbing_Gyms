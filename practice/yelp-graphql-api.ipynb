{
 "cells": [
  {
   "cell_type": "code",
   "execution_count": 1,
   "metadata": {},
   "outputs": [],
   "source": [
    "# Import GraphQL Client\n",
    "from os.path import expanduser\n",
    "from gql import gql, Client\n",
    "from gql.transport.requests import RequestsHTTPTransport\n",
    "\n",
    "with open(expanduser('~/Desktop/.api/yelp_apikey.txt')) as f: # Grab API Key\n",
    "    api_key = f.readline().strip()"
   ]
  },
  {
   "cell_type": "markdown",
   "metadata": {},
   "source": [
    "# Set Params"
   ]
  },
  {
   "cell_type": "code",
   "execution_count": 2,
   "metadata": {},
   "outputs": [],
   "source": [
    "# build the request framework\n",
    "transport = RequestsHTTPTransport(url='https://api.yelp.com/v3/graphql',\n",
    "                                  headers={'Authorization': 'bearer {}'.format(api_key),\n",
    "                                           'Content-Type': 'application/json'},\n",
    "                                  use_json=True)\n",
    "\n",
    "client = Client(transport=transport, fetch_schema_from_transport=True) # Create the client"
   ]
  },
  {
   "cell_type": "code",
   "execution_count": 3,
   "metadata": {},
   "outputs": [],
   "source": [
    "query = \"\"\"\n",
    "{\n",
    "    business(id: \"mission-cliffs-climbing-and-fitness-san-francisco\") {\n",
    "        name\n",
    "        id\n",
    "        alias\n",
    "        reviews {\n",
    "            user {\n",
    "                name\n",
    "                id\n",
    "            }\n",
    "            id\n",
    "            rating\n",
    "            text\n",
    "            time_created\n",
    "        }\n",
    "    }\n",
    "}\n",
    "\"\"\"\n",
    "\n",
    "response_query = client.execute(gql(query)) # Get the response"
   ]
  },
  {
   "cell_type": "code",
   "execution_count": 6,
   "metadata": {
    "scrolled": false
   },
   "outputs": [
    {
     "name": "stdout",
     "output_type": "stream",
     "text": [
      "{'business': {'name': 'Mission Cliffs Climbing & Fitness', 'id': 'yR2AbNAOuzqpJfmGwV0O3g', 'alias': 'mission-cliffs-climbing-and-fitness-san-francisco', 'reviews': [{'user': {'name': 'Katrina C.', 'id': 'wzwyPHDR6bwf_iiQuDl0aw'}, 'id': 'G7vuM06Wpxrg2BPsHvLsBw', 'rating': 5, 'text': 'One of my best friends friend took me to Mission Cliffs for my first time rock wall climbing experience. I had such a fun time and will be looking forward...', 'time_created': '2019-01-13 08:12:21'}, {'user': {'name': 'Joe B.', 'id': 'i4Hyb35X0BM94Ajdy2I3tg'}, 'id': 'VW2b3RfurGccdsQ0Pp7uZA', 'rating': 1, 'text': 'Discrimination at Mission Cliffs. \\n\\nThis morning I was made to feel like a criminal when I went to check out Mission Cliffs Gym for my office. This morning...', 'time_created': '2019-05-14 09:23:30'}, {'user': {'name': 'Brad C.', 'id': 'LUW58ywnZUcb7VZbcUFprA'}, 'id': 'suls31h5O6nJfflmDbNSXA', 'rating': 3, 'text': \"I love this gym BUT it's overcrowded & it hasn't grown in the ways that matter most in order to compensate for the crowding. Pro: free access to other...\", 'time_created': '2019-02-03 17:33:13'}]}}\n"
     ]
    }
   ],
   "source": [
    "# print the query\n",
    "print(response_query)"
   ]
  }
 ],
 "metadata": {
  "kernelspec": {
   "display_name": "Python 3",
   "language": "python",
   "name": "python3"
  },
  "language_info": {
   "codemirror_mode": {
    "name": "ipython",
    "version": 3
   },
   "file_extension": ".py",
   "mimetype": "text/x-python",
   "name": "python",
   "nbconvert_exporter": "python",
   "pygments_lexer": "ipython3",
   "version": "3.7.6"
  }
 },
 "nbformat": 4,
 "nbformat_minor": 2
}
