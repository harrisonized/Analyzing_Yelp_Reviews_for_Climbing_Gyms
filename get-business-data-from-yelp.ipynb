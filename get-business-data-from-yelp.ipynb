{
 "cells": [
  {
   "cell_type": "code",
   "execution_count": 1,
   "metadata": {},
   "outputs": [],
   "source": [
    "import json\n",
    "import time\n",
    "import random\n",
    "import dask.bag as db\n",
    "import bs4\n",
    "import requests\n",
    "from fake_useragent import UserAgent\n",
    "from tqdm.notebook import tqdm\n",
    "from functions.scrape import get_business_data\n",
    "\n",
    "import warnings # Turn off warnings\n",
    "warnings.filterwarnings('ignore')"
   ]
  },
  {
   "cell_type": "code",
   "execution_count": null,
   "metadata": {},
   "outputs": [],
   "source": [
    "save=True"
   ]
  },
  {
   "cell_type": "markdown",
   "metadata": {},
   "source": [
    "# Set Params"
   ]
  },
  {
   "cell_type": "code",
   "execution_count": 2,
   "metadata": {
    "scrolled": true
   },
   "outputs": [
    {
     "data": {
      "text/plain": [
       "'https://www.yelp.com/biz/aesthetic-climbing-gym-lake-forest'"
      ]
     },
     "execution_count": 2,
     "metadata": {},
     "output_type": "execute_result"
    }
   ],
   "source": [
    "with open(r'data/urls.txt') as f:\n",
    "    urls = f.read().splitlines()\n",
    "    \n",
    "urls[0]"
   ]
  },
  {
   "cell_type": "markdown",
   "metadata": {},
   "source": [
    "# Get Business Data"
   ]
  },
  {
   "cell_type": "code",
   "execution_count": 3,
   "metadata": {},
   "outputs": [],
   "source": [
    "# Warning! Monitor the loop for Captchas\n",
    "\n",
    "data_json = [] # Collect results\n",
    "\n",
    "for url in tqdm(urls):\n",
    "    \n",
    "    time.sleep(10+10*random.random())\n",
    "    \n",
    "    ua = UserAgent() # Generate random user to make it seem like the task is distributed across multiple computers\n",
    "    user_agent = {'User-agent': ua.random}\n",
    "    response  = requests.get(url, headers = user_agent)\n",
    "    soup = bs4.BeautifulSoup(response.text)    \n",
    "    \n",
    "    # Print information for tracking\n",
    "#     page_text = soup.find('div',{\"class\":\"page-of-pages arrange_unit arrange_unit--fill\"}).get_text().strip() # Get 'Page <current> of <total>'\n",
    "#     num_pages = int(re.search('(?<=of) [0-9]*', page_text).group(0).strip()) # Get total number of pages\n",
    "#     num_reviews = soup.find('span',{\"class\":\"review-count rating-qualifier\"}).get_text().strip() # Get total number of reviews\n",
    "#     business_id = soup.find(\"div\", {\"class\": \"lightbox-map hidden\"}).get(\"data-business-id\")\n",
    "#     print(*[url, business_id, 'Index: '+str(url_index), num_reviews], sep=\"\\n\") # Quality Control\n",
    "        \n",
    "    data_dict = get_business_data(soup)\n",
    "    data_json.append(data_dict) # Collect data"
   ]
  },
  {
   "cell_type": "code",
   "execution_count": 4,
   "metadata": {},
   "outputs": [
    {
     "name": "stdout",
     "output_type": "stream",
     "text": [
      "Complete\n"
     ]
    }
   ],
   "source": [
    "if save:\n",
    "    filename = \"business\"\n",
    "    with open(f'data/{filename}.json', 'w') as f:\n",
    "        for review in tqdm(data_json):\n",
    "            json.dump(review, f)\n",
    "            f.write('\\n')\n",
    "    print('Complete')"
   ]
  },
  {
   "cell_type": "markdown",
   "metadata": {},
   "source": [
    "# Check"
   ]
  },
  {
   "cell_type": "code",
   "execution_count": 5,
   "metadata": {
    "scrolled": true
   },
   "outputs": [
    {
     "data": {
      "text/plain": [
       "71"
      ]
     },
     "execution_count": 5,
     "metadata": {},
     "output_type": "execute_result"
    }
   ],
   "source": [
    "business_full_bag = db.read_text(\"data/business.json\").map(json.loads) # Loads the json file as a dask bag\n",
    "business_tuple = business_full_bag.take(10000) # Takes the first 10000 entries of the dask bag and stores as a tuple\n",
    "len(business_tuple)"
   ]
  },
  {
   "cell_type": "code",
   "execution_count": null,
   "metadata": {},
   "outputs": [],
   "source": []
  }
 ],
 "metadata": {
  "kernelspec": {
   "display_name": "Python 3",
   "language": "python",
   "name": "python3"
  },
  "language_info": {
   "codemirror_mode": {
    "name": "ipython",
    "version": 3
   },
   "file_extension": ".py",
   "mimetype": "text/x-python",
   "name": "python",
   "nbconvert_exporter": "python",
   "pygments_lexer": "ipython3",
   "version": "3.7.6"
  }
 },
 "nbformat": 4,
 "nbformat_minor": 2
}
